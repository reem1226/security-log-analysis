{
 "cells": [
  {
   "cell_type": "code",
   "execution_count": 5,
   "metadata": {},
   "outputs": [
    {
     "name": "stdout",
     "output_type": "stream",
     "text": [
      " * Serving Flask app '__main__'\n",
      " * Debug mode: off\n"
     ]
    },
    {
     "name": "stderr",
     "output_type": "stream",
     "text": [
      "WARNING: This is a development server. Do not use it in a production deployment. Use a production WSGI server instead.\n",
      " * Running on http://127.0.0.1:5000\n",
      "Press CTRL+C to quit\n",
      "127.0.0.1 - - [14/May/2024 13:57:16] \"GET / HTTP/1.1\" 404 -\n",
      "127.0.0.1 - - [14/May/2024 13:57:33] \"GET /home/10 HTTP/1.1\" 200 -\n",
      "127.0.0.1 - - [14/May/2024 13:57:41] \"GET /home/7 HTTP/1.1\" 200 -\n"
     ]
    }
   ],
   "source": [
    "# Using flask to make an api \n",
    "# import necessary libraries and functions \n",
    "from flask import Flask, jsonify, request \n",
    "\n",
    "# creating a Flask app \n",
    "app = Flask(__name__) \n",
    "\n",
    "# on the terminal type: curl http://127.0.0.1:5000/ \n",
    "# returns hello world when we use GET. \n",
    "# returns the data that we send when we use POST. \n",
    "#@app.route('/', methods = ['GET', 'POST']) \n",
    "#def home(): \n",
    "#\tif(request.method == 'GET'): \n",
    "\n",
    "#\t\tdata = \"hello world\"\n",
    "#\t\treturn jsonify({'data': data}) \n",
    "\n",
    "\n",
    "# A simple function to calculate the square of a number \n",
    "# the number to be squared is sent in the URL when we use GET \n",
    "# on the terminal type: curl http://127.0.0.1:5000 / home / 10 \n",
    "# this returns 100 (square of 10) \n",
    "@app.route('/home/<int:num>', methods = ['GET']) \n",
    "def disp(num): \n",
    "\n",
    "\treturn jsonify({'data': num**2}) \n",
    "\n",
    "\n",
    "# driver function \n",
    "if __name__ == '__main__': \n",
    "\n",
    "\tapp.run(debug = False) \n"
   ]
  }
 ],
 "metadata": {
  "kernelspec": {
   "display_name": "Python 3",
   "language": "python",
   "name": "python3"
  },
  "language_info": {
   "codemirror_mode": {
    "name": "ipython",
    "version": 3
   },
   "file_extension": ".py",
   "mimetype": "text/x-python",
   "name": "python",
   "nbconvert_exporter": "python",
   "pygments_lexer": "ipython3",
   "version": "3.12.3"
  }
 },
 "nbformat": 4,
 "nbformat_minor": 2
}
